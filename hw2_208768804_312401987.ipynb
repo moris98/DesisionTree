{
 "cells": [
  {
   "cell_type": "markdown",
   "metadata": {
    "nbgrader": {
     "grade": false,
     "grade_id": "cell-6bd0516e7cb654f5",
     "locked": true,
     "schema_version": 1,
     "solution": false
    }
   },
   "source": [
    "# Exercise 2: Decision Trees\n",
    "\n",
    "In this assignment you will implement a Decision Tree algorithm as learned in class.\n",
    "\n",
    "## Read the following instructions carefully:\n",
    "\n",
    "1. This jupyter notebook contains all the step by step instructions needed for this exercise.\n",
    "1. Submission includes this notebook only with the exercise number and your ID as the filename. For example: `hw2_123456789_987654321.ipynb` if you submitted in pairs and `hw2_123456789.ipynb` if you submitted the exercise alone.\n",
    "1. Write **efficient vectorized** code whenever possible. Some calculations in this exercise take several minutes when implemented efficiently, and might take much longer otherwise. Unnecessary loops will result in point deduction.\n",
    "1. You are responsible for the correctness of your code and should add as many tests as you see fit. Tests will not be graded nor checked.\n",
    "1. Write your functions in this notebook only. **Do not create Python modules and import them**.\n",
    "1. You are allowed to use functions and methods from the [Python Standard Library](https://docs.python.org/3/library/) and [numpy](https://www.numpy.org/devdocs/reference/) only. **Do not import anything else.**\n",
    "1. Your code must run without errors. Make sure your `numpy` version is at least 1.15.4 and that you are using at least python 3.6. Changes of the configuration we provided are at your own risk. Any code that cannot run will not be graded.\n",
    "1. Write your own code. Cheating will not be tolerated.\n",
    "1. Answers to qualitative questions should be written in **markdown** cells (with $\\LaTeX$ support). Answers that will be written in commented code blocks will not be checked.\n",
    "\n",
    "## In this exercise you will perform the following:\n",
    "1. Practice OOP in python.\n",
    "2. Implement two impurity measures: Gini and Entropy.\n",
    "3. Construct a decision tree algorithm.\n",
    "4. Prune the tree to achieve better results.\n",
    "5. Visualize your results."
   ]
  },
  {
   "cell_type": "markdown",
   "metadata": {},
   "source": [
    "# I have read and understood the instructions: 208768804 , 312401987"
   ]
  },
  {
   "cell_type": "code",
   "execution_count": 1,
   "metadata": {
    "nbgrader": {
     "grade": false,
     "grade_id": "cell-ed9fe7b1026e33cb",
     "locked": true,
     "schema_version": 1,
     "solution": false
    }
   },
   "outputs": [],
   "source": [
    "import numpy as np\n",
    "import pandas as pd\n",
    "import matplotlib.pyplot as plt\n",
    "\n",
    "# make matplotlib figures appear inline in the notebook\n",
    "%matplotlib inline\n",
    "plt.rcParams['figure.figsize'] = (10.0, 8.0) # set default size of plots\n",
    "plt.rcParams['image.interpolation'] = 'nearest'\n",
    "plt.rcParams['image.cmap'] = 'gray'\n",
    "\n",
    "# Ignore warnings\n",
    "import warnings\n",
    "warnings.filterwarnings('ignore')"
   ]
  },
  {
   "cell_type": "markdown",
   "metadata": {
    "nbgrader": {
     "grade": false,
     "grade_id": "cell-c6ac605270c2b091",
     "locked": true,
     "schema_version": 1,
     "solution": false
    }
   },
   "source": [
    "## Warmup - OOP in python\n",
    "\n",
    "Our desicion tree will be implemented using a dedicated python class. Python classes are very similar to classes in Java.\n",
    "\n",
    "\n",
    "You can use the following [site](https://jeffknupp.com/blog/2014/06/18/improve-your-python-python-classes-and-object-oriented-programming/) to learn about classes in python."
   ]
  },
  {
   "cell_type": "code",
   "execution_count": 2,
   "metadata": {},
   "outputs": [],
   "source": [
    "class Node(object):\n",
    "    def __init__(self, data):\n",
    "        self.data = data\n",
    "        self.children = []\n",
    "\n",
    "    def add_child(self, node):\n",
    "        self.children.append(node)"
   ]
  },
  {
   "cell_type": "code",
   "execution_count": 3,
   "metadata": {},
   "outputs": [
    {
     "data": {
      "text/plain": [
       "[<__main__.Node at 0x10c49b2e0>, <__main__.Node at 0x11f9d0a30>]"
      ]
     },
     "execution_count": 3,
     "metadata": {},
     "output_type": "execute_result"
    }
   ],
   "source": [
    "n = Node(5)\n",
    "p = Node(6)\n",
    "q = Node(7)\n",
    "n.add_child(p)\n",
    "n.add_child(q)\n",
    "n.children"
   ]
  },
  {
   "cell_type": "markdown",
   "metadata": {
    "nbgrader": {
     "grade": false,
     "grade_id": "cell-2f1ceb251c649b62",
     "locked": true,
     "schema_version": 1,
     "solution": false
    }
   },
   "source": [
    "## Data preprocessing\n",
    "\n",
    "For the following exercise, we will use a dataset containing mushroom data `agaricus-lepiota.csv`. \n",
    "\n",
    "This data set includes descriptions of hypothetical samples corresponding to 23 species of gilled mushrooms in the Agaricus and Lepiota Family. Each species is identified as definitely edible, definitely poisonous, or of unknown edibility and not recommended. This latter class was combined with the poisonous\n",
    "one (=there are only two classes **edible** and **poisonous**). \n",
    "    \n",
    "The dataset contains 8124 observations with 22 features:\n",
    "1. cap-shape: bell=b,conical=c,convex=x,flat=f,knobbed=k,sunken=s\n",
    "2. cap-surface: fibrous=f,grooves=g,scaly=y,smooth=s\n",
    "3. cap-color: brown=n,buff=b,cinnamon=c,gray=g,green=r,pink=p,purple=u,red=e,white=w,yellow=y\n",
    "4. bruises: bruises=t,no=f\n",
    "5. odor: almond=a,anise=l,creosote=c,fishy=y,foul=f, musty=m,none=n,pungent=p,spicy=s\n",
    "6. gill-attachment: attached=a,descending=d,free=f,notched=n\n",
    "7. gill-spacing: close=c,crowded=w,distant=d\n",
    "8. gill-size: broad=b,narrow=n\n",
    "9. gill-color: black=k,brown=n,buff=b,chocolate=h,gray=g,green=r,orange=o,pink=p,purple=u,red=e,white=w,yellow=y\n",
    "10. stalk-shape: enlarging=e,tapering=t\n",
    "11. stalk-root: bulbous=b,club=c,cup=u,equal=e,rhizomorphs=z,rooted=r\n",
    "12. stalk-surface-above-ring: fibrous=f,scaly=y,silky=k,smooth=s\n",
    "13. stalk-surface-below-ring: fibrous=f,scaly=y,silky=k,smooth=s\n",
    "14. stalk-color-above-ring: brown=n,buff=b,cinnamon=c,gray=g,orange=o,pink=p,red=e,white=w,yellow=y\n",
    "15. stalk-color-below-ring: brown=n,buff=b,cinnamon=c,gray=g,orange=o,pink=p,red=e,white=w,yellow=y\n",
    "16. veil-type: partial=p,universal=u\n",
    "17. veil-color: brown=n,orange=o,white=w,yellow=y\n",
    "18. ring-number: none=n,one=o,two=t\n",
    "19. ring-type: cobwebby=c,evanescent=e,flaring=f,large=l,none=n,pendant=p,sheathing=s,zone=z\n",
    "20. spore-print-color: black=k,brown=n,buff=b,chocolate=h,green=r,orange=o,purple=u,white=w,yellow=y\n",
    "21. population: abundant=a,clustered=c,numerous=n,scattered=s,several=v,solitary=y\n",
    "22. habitat: grasses=g,leaves=l,meadows=m,paths=p,urban=u,waste=w,woods=d\n",
    "\n",
    "First, we will read and explore the data using pandas and the `.read_csv` method. Pandas is an open source library providing high-performance, easy-to-use data structures and data analysis tools for the Python programming language."
   ]
  },
  {
   "cell_type": "code",
   "execution_count": 4,
   "metadata": {
    "nbgrader": {
     "grade": false,
     "grade_id": "cell-d79cb4542926ad3f",
     "locked": true,
     "schema_version": 1,
     "solution": false
    }
   },
   "outputs": [],
   "source": [
    "# load dataset\n",
    "data = pd.read_csv('agaricus-lepiota.csv')"
   ]
  },
  {
   "cell_type": "code",
   "execution_count": 5,
   "metadata": {},
   "outputs": [
    {
     "data": {
      "text/html": [
       "<div>\n",
       "<style scoped>\n",
       "    .dataframe tbody tr th:only-of-type {\n",
       "        vertical-align: middle;\n",
       "    }\n",
       "\n",
       "    .dataframe tbody tr th {\n",
       "        vertical-align: top;\n",
       "    }\n",
       "\n",
       "    .dataframe thead th {\n",
       "        text-align: right;\n",
       "    }\n",
       "</style>\n",
       "<table border=\"1\" class=\"dataframe\">\n",
       "  <thead>\n",
       "    <tr style=\"text-align: right;\">\n",
       "      <th></th>\n",
       "      <th>cap-shape</th>\n",
       "      <th>cap-surface</th>\n",
       "      <th>cap-color</th>\n",
       "      <th>bruises</th>\n",
       "      <th>odor</th>\n",
       "      <th>gill-attachment</th>\n",
       "      <th>gill-spacing</th>\n",
       "      <th>gill-size</th>\n",
       "      <th>gill-color</th>\n",
       "      <th>stalk-shape</th>\n",
       "      <th>...</th>\n",
       "      <th>stalk-color-above-ring</th>\n",
       "      <th>stalk-color-below-ring</th>\n",
       "      <th>veil-type</th>\n",
       "      <th>veil-color</th>\n",
       "      <th>ring-number</th>\n",
       "      <th>ring-type</th>\n",
       "      <th>spore-print-color</th>\n",
       "      <th>population</th>\n",
       "      <th>habitat</th>\n",
       "      <th>class</th>\n",
       "    </tr>\n",
       "  </thead>\n",
       "  <tbody>\n",
       "    <tr>\n",
       "      <th>count</th>\n",
       "      <td>8124</td>\n",
       "      <td>8124</td>\n",
       "      <td>8124</td>\n",
       "      <td>8124</td>\n",
       "      <td>8124</td>\n",
       "      <td>8124</td>\n",
       "      <td>8124</td>\n",
       "      <td>8124</td>\n",
       "      <td>8124</td>\n",
       "      <td>8124</td>\n",
       "      <td>...</td>\n",
       "      <td>8124</td>\n",
       "      <td>8124</td>\n",
       "      <td>8124</td>\n",
       "      <td>8124</td>\n",
       "      <td>8124</td>\n",
       "      <td>8124</td>\n",
       "      <td>8124</td>\n",
       "      <td>8124</td>\n",
       "      <td>8124</td>\n",
       "      <td>8124</td>\n",
       "    </tr>\n",
       "    <tr>\n",
       "      <th>unique</th>\n",
       "      <td>6</td>\n",
       "      <td>4</td>\n",
       "      <td>10</td>\n",
       "      <td>2</td>\n",
       "      <td>9</td>\n",
       "      <td>2</td>\n",
       "      <td>2</td>\n",
       "      <td>2</td>\n",
       "      <td>12</td>\n",
       "      <td>2</td>\n",
       "      <td>...</td>\n",
       "      <td>9</td>\n",
       "      <td>9</td>\n",
       "      <td>1</td>\n",
       "      <td>4</td>\n",
       "      <td>3</td>\n",
       "      <td>5</td>\n",
       "      <td>9</td>\n",
       "      <td>6</td>\n",
       "      <td>7</td>\n",
       "      <td>2</td>\n",
       "    </tr>\n",
       "    <tr>\n",
       "      <th>top</th>\n",
       "      <td>x</td>\n",
       "      <td>y</td>\n",
       "      <td>n</td>\n",
       "      <td>f</td>\n",
       "      <td>n</td>\n",
       "      <td>f</td>\n",
       "      <td>c</td>\n",
       "      <td>b</td>\n",
       "      <td>b</td>\n",
       "      <td>t</td>\n",
       "      <td>...</td>\n",
       "      <td>w</td>\n",
       "      <td>w</td>\n",
       "      <td>p</td>\n",
       "      <td>w</td>\n",
       "      <td>o</td>\n",
       "      <td>p</td>\n",
       "      <td>w</td>\n",
       "      <td>v</td>\n",
       "      <td>d</td>\n",
       "      <td>e</td>\n",
       "    </tr>\n",
       "    <tr>\n",
       "      <th>freq</th>\n",
       "      <td>3656</td>\n",
       "      <td>3244</td>\n",
       "      <td>2284</td>\n",
       "      <td>4748</td>\n",
       "      <td>3528</td>\n",
       "      <td>7914</td>\n",
       "      <td>6812</td>\n",
       "      <td>5612</td>\n",
       "      <td>1728</td>\n",
       "      <td>4608</td>\n",
       "      <td>...</td>\n",
       "      <td>4464</td>\n",
       "      <td>4384</td>\n",
       "      <td>8124</td>\n",
       "      <td>7924</td>\n",
       "      <td>7488</td>\n",
       "      <td>3968</td>\n",
       "      <td>2388</td>\n",
       "      <td>4040</td>\n",
       "      <td>3148</td>\n",
       "      <td>4182</td>\n",
       "    </tr>\n",
       "  </tbody>\n",
       "</table>\n",
       "<p>4 rows × 22 columns</p>\n",
       "</div>"
      ],
      "text/plain": [
       "       cap-shape cap-surface cap-color bruises  odor gill-attachment  \\\n",
       "count       8124        8124      8124    8124  8124            8124   \n",
       "unique         6           4        10       2     9               2   \n",
       "top            x           y         n       f     n               f   \n",
       "freq        3656        3244      2284    4748  3528            7914   \n",
       "\n",
       "       gill-spacing gill-size gill-color stalk-shape  ...  \\\n",
       "count          8124      8124       8124        8124  ...   \n",
       "unique            2         2         12           2  ...   \n",
       "top               c         b          b           t  ...   \n",
       "freq           6812      5612       1728        4608  ...   \n",
       "\n",
       "       stalk-color-above-ring stalk-color-below-ring veil-type veil-color  \\\n",
       "count                    8124                   8124      8124       8124   \n",
       "unique                      9                      9         1          4   \n",
       "top                         w                      w         p          w   \n",
       "freq                     4464                   4384      8124       7924   \n",
       "\n",
       "       ring-number ring-type spore-print-color population habitat class  \n",
       "count         8124      8124              8124       8124    8124  8124  \n",
       "unique           3         5                 9          6       7     2  \n",
       "top              o         p                 w          v       d     e  \n",
       "freq          7488      3968              2388       4040    3148  4182  \n",
       "\n",
       "[4 rows x 22 columns]"
      ]
     },
     "execution_count": 5,
     "metadata": {},
     "output_type": "execute_result"
    }
   ],
   "source": [
    "data.describe()"
   ]
  },
  {
   "cell_type": "markdown",
   "metadata": {},
   "source": [
    "One of the advantages of the Decision Tree algorithm is that almost no preprocessing is required. However, finding missing values is always required."
   ]
  },
  {
   "cell_type": "code",
   "execution_count": 6,
   "metadata": {},
   "outputs": [],
   "source": [
    "#############################################################################\n",
    "# Find columns with missing values and remove them from the data.#\n",
    "#############################################################################\n",
    "data= data.dropna(axis=1)#droping colums(features) that have missimg values\n",
    "#############################################################################\n",
    "#                             END OF YOUR CODE                              #\n",
    "#############################################################################"
   ]
  },
  {
   "cell_type": "markdown",
   "metadata": {},
   "source": [
    "We will split the dataset to `Training` and `Testing` datasets."
   ]
  },
  {
   "cell_type": "code",
   "execution_count": 7,
   "metadata": {},
   "outputs": [
    {
     "name": "stdout",
     "output_type": "stream",
     "text": [
      "Training dataset shape:  (6093, 22)\n",
      "Testing dataset shape:  (2031, 22)\n"
     ]
    }
   ],
   "source": [
    "from sklearn.model_selection import train_test_split\n",
    "# Making sure the last column will hold the labels\n",
    "X, y = data.drop('class', axis=1), data['class']\n",
    "X = np.column_stack([X,y])\n",
    "# split dataset using random_state to get the same split each time\n",
    "X_train, X_test = train_test_split(X, random_state=99)\n",
    "\n",
    "print(\"Training dataset shape: \", X_train.shape)\n",
    "print(\"Testing dataset shape: \", X_test.shape)"
   ]
  },
  {
   "cell_type": "markdown",
   "metadata": {
    "nbgrader": {
     "grade": false,
     "grade_id": "cell-fd7b0191f3f1e897",
     "locked": true,
     "schema_version": 1,
     "solution": false
    }
   },
   "source": [
    "## Impurity Measures\n",
    "\n",
    "Impurity is a measure of how often a randomly chosen element from the set would be incorrectly labeled if it was randomly labeled according to the distribution of labels in the subset. Implement the functions `calc_gini` and `calc_entropy`. You are encouraged to test your implementation (10 points)."
   ]
  },
  {
   "cell_type": "code",
   "execution_count": 8,
   "metadata": {},
   "outputs": [],
   "source": [
    "def calc_gini(data):\n",
    "    \"\"\"\n",
    "    Calculate gini impurity measure of a dataset.\n",
    " \n",
    "    Input:\n",
    "    - data: any dataset where the last column holds the labels.\n",
    " \n",
    "    Returns the gini impurity.    \n",
    "    \"\"\"\n",
    "\n",
    "    gini = 0.0\n",
    "    ###########################################################################\n",
    "    #  Implement the function.                                                #\n",
    "    ###########################################################################\n",
    "\n",
    "    unique,counts=np.unique(data[:,-1],return_counts=True)\n",
    "    counts=np.array(counts)\n",
    "    unique=np.array(unique)\n",
    "    gini=1-sum(np.square(counts/sum(counts)))\n",
    "    return gini"
   ]
  },
  {
   "cell_type": "code",
   "execution_count": 9,
   "metadata": {},
   "outputs": [],
   "source": [
    "def calc_entropy(data):\n",
    "    \"\"\"\n",
    "    Calculate the entropy of a dataset.\n",
    "\n",
    "    Input:\n",
    "    - data: any dataset where the last column holds the labels.\n",
    "\n",
    "    Returns the entropy of the dataset.    \n",
    "    \"\"\"\n",
    "    entropy = 0.0\n",
    "    ###########################################################################\n",
    "    # Implement the function.                                                 #\n",
    "    ###########################################################################\n",
    "    unique,counts=np.unique(data[:,-1],return_counts=True)\n",
    "    counts=np.array(counts)\n",
    "    unique=np.array(unique)\n",
    "    probability_vector=counts/sum(counts)\n",
    "    probability_vector=np.array(probability_vector)\n",
    "    entropy=-probability_vector.dot(np.log2(probability_vector))#log2 - for log with basis2, log with basis e\n",
    "    ###########################################################################\n",
    "    #                                                                         #\n",
    "    ###########################################################################\n",
    "    return entropy"
   ]
  },
  {
   "cell_type": "code",
   "execution_count": 10,
   "metadata": {
    "scrolled": true
   },
   "outputs": [
    {
     "data": {
      "text/plain": [
       "(0.4995636322379775, 0.9993703627906086)"
      ]
     },
     "execution_count": 10,
     "metadata": {},
     "output_type": "execute_result"
    }
   ],
   "source": [
    "\n",
    "calc_gini(X), calc_entropy(X)"
   ]
  },
  {
   "cell_type": "markdown",
   "metadata": {},
   "source": [
    "## Goodness of Split\n",
    "\n",
    "Given a feature the Goodnees of Split measures the reduction in the impurity if we split the data according to the feature.\n",
    "$$\n",
    "\\Delta\\varphi(S, A) = \\varphi(S) - \\sum_{v\\in Values(A)} \\frac{|S_v|}{|S|}\\varphi(S_v)\n",
    "$$\n",
    "\n",
    "In our implementation the goodness_of_split function will return either the Goodness of Split or the Gain Ratio as learned in class. You'll control the return value with the `gain_ratio` parameter. If this parameter will set to False (the default value) it will return the regular Goodness of Split. If it will set to True it will return the Gain Ratio.\n",
    "$$\n",
    "GainRatio(S,A)=\\frac{InformationGain(S,A)}{SplitInformation(S,A)}\n",
    "$$\n",
    "Where:\n",
    "$$\n",
    "InformationGain(S,A)=Goodness\\ of\\ Split\\ calculated\\ with\\ Entropy\\ as\\ the\\ Impurity\\ function \\\\\n",
    "SplitInformation(S,A)=- \\sum_{a\\in A} \\frac{|S_a|}{|S|}\\log\\frac{|S_a|}{|S|}\n",
    "$$\n",
    "NOTE: you can add more parameters to the function and you can also add more returning variables (The given parameters and the given returning variable should not be touch). (10 Points)"
   ]
  },
  {
   "cell_type": "code",
   "execution_count": 11,
   "metadata": {},
   "outputs": [],
   "source": [
    "def goodness_of_split(data, feature, impurity_func, gain_ratio=False):\n",
    "    \"\"\"\n",
    "    Calculate the goodness of split of a dataset given a feature and impurity function.\n",
    "\n",
    "    Input:\n",
    "    - data: any dataset where the last column holds the labels.\n",
    "    - feature: the feature index.\n",
    "    - impurity func: a function that calculates the impurity.\n",
    "    - gain_ratio: goodness of split or gain ratio flag.\n",
    "\n",
    "    Returns the goodness of split (or the Gain Ration).  \n",
    "    \"\"\"\n",
    "    ###########################################################################\n",
    "    # Implement the function.                                                 #\n",
    "    ###########################################################################\n",
    "    sum_of_data=len(data)\n",
    "    #information gain:\n",
    "    if(gain_ratio is True): #in case gain_ratio flag is up we need to use entropy(by definition above) \n",
    "        impurity_func=calc_entropy\n",
    "        \n",
    "    #split the data according the feature indicated above   \n",
    "    unique,counts=np.unique(data[:,feature],return_counts=True)  \n",
    "    partition=[[instance for instance in data if instance[feature]==element] for element in unique]\n",
    "    \n",
    "    #calc the information gain by the formula above\n",
    "    information_gain=impurity_func(data)-sum(((len(part)/sum_of_data)*impurity_func(np.array(part)) for part in partition))\n",
    "    \n",
    "    #use the gain ratio? Or information gain?\n",
    "    if(gain_ratio is False):\n",
    "        goodness=information_gain\n",
    "    else:\n",
    "        counts=np.array(counts)\n",
    "        unique=np.array(unique)\n",
    "        probability_per_values_in_feature=counts/sum_of_data\n",
    "        probability_per_values_in_feature=np.array(probability_per_values_in_feature)\n",
    "        spilt_information=-probability_per_values_in_feature.dot(np.log2(probability_per_values_in_feature))\n",
    "        if(spilt_information==0):\n",
    "            goodness=0\n",
    "        else:    \n",
    "            goodness=information_gain/spilt_information\n",
    "    ###########################################################################\n",
    "    #                             END OF YOUR CODE                            #\n",
    "    ###########################################################################\n",
    "    return goodness    "
   ]
  },
  {
   "cell_type": "markdown",
   "metadata": {},
   "source": [
    "## Building a Decision Tree\n",
    "\n",
    "Use a Python class to construct the decision tree. Your class should support the following functionality:\n",
    "\n",
    "1. Initiating a node for a decision tree. You will need to use several class methods and class attributes and you are free to use them as you see fit. We recommend that every node will hold the feature and value used for the split and its children.\n",
    "2. Your code should support both Gini and Entropy as impurity measures. \n",
    "3. The provided data includes categorical data. In this exercise, when splitting a node create the number of children needed according to the attribute unique values.\n",
    "\n",
    "Complete the class `DecisionNode`. The structure of this class is entirely up to you. \n",
    "\n",
    "Complete the function `build_tree`. This function should get the training dataset and the impurity as inputs, initiate a root for the decision tree and construct the tree according to the procedure you learned in class. (30 points)"
   ]
  },
  {
   "cell_type": "code",
   "execution_count": 12,
   "metadata": {},
   "outputs": [],
   "source": [
    "class DecisionNode:\n",
    "    \"\"\"\n",
    "    This class will hold everything you require to construct a decision tree.\n",
    "    The structure of this class is up to you. However, you need to support basic \n",
    "    functionality as described above. It is highly recommended that you \n",
    "    first read and understand the entire exercise before diving into this class.\n",
    "    \n",
    "    Attributes to a node:\n",
    "    - feature_the_current_node_partitions : the attribute this node spilts by. \n",
    "    If the node is a leaf there will be no value here\n",
    "    - value_this_node_share : the value in which all training instances share while they were splited.  \n",
    "    If the node is the root it will have no value here.\n",
    "    - decision : every node will keep the decision according to the majority in the node\n",
    "    - labels : if this node is a leaf, it will have a dictionary with the training instances that construct this node. \n",
    "    Else it will be with no value.\n",
    "    - children : when the node is spilted according to a feature(feature_the_current_node_partitions), every node in\n",
    "    childern will be a group of training instances that have the same values per feature_the_current_node_partitions.\n",
    "    If the node is a leaf it children array will be empty\n",
    "    \n",
    "    \"\"\"\n",
    "    def __init__(self, feature_the_current_node_partitions=None, value_this_node_share=None,decision=None,labels=None):\n",
    "        self.feature_the_current_node_partitions = feature_the_current_node_partitions # column index of criteria being tested\n",
    "        self.value_this_node_share=value_this_node_share\n",
    "        self.decision=decision\n",
    "        self.children=[]\n",
    "    def add_child(self, node):\n",
    "        self.children.append(node)"
   ]
  },
  {
   "cell_type": "code",
   "execution_count": 13,
   "metadata": {},
   "outputs": [],
   "source": [
    "#function for spliting the data according to a specific feature given as a parameter\n",
    "def split_by_attribute(data,attribute):\n",
    "    unique,counts=np.unique(data[:,attribute],return_counts=True)\n",
    "    partition=[[instance for instance in data if instance[attribute]==element] for element in unique]\n",
    "    return np.array(partition)"
   ]
  },
  {
   "cell_type": "code",
   "execution_count": 14,
   "metadata": {},
   "outputs": [],
   "source": [
    "def build_tree(data, impurity, gain_ratio=False, min_samples_split=1, max_depth=1000,my_node=None):\n",
    "    \"\"\"\n",
    "    Build a tree using the given impurity measure and training dataset. \n",
    "    You are required to fully grow the tree until all leaves are pure. \n",
    "\n",
    "    Input:\n",
    "    - data: the training dataset.\n",
    "    - impurity: the chosen impurity measure. Notice that you can send a function\n",
    "                as an argument in python.\n",
    "    - gain_ratio: goodness of split or gain ratio flag\n",
    "    - min_samples_split: the minimum number of samples required to split an internal node\n",
    "    - max_depth: the allowable depth of the tree\n",
    "    - my_node : the node that is currently looked at.\n",
    "\n",
    "    Output: the root node of the tree.\n",
    "    \"\"\"\n",
    "    ###########################################################################\n",
    "    # Implement the function.                                                 #\n",
    "    ###########################################################################\n",
    "    goodness_of_split_on_each_attribute=[]\n",
    "    \n",
    "    impurity_of_node=impurity(data) #check if this node is pure\n",
    "    \n",
    "    # check if we can finish with the current branch\n",
    "    if(impurity_of_node==0 or max_depth<=0 or len(data)<=min_samples_split):\n",
    "        # decide for the leaf, which desicion it should take. And append the information for the leaf.\n",
    "        unique,counts=np.unique(data[:,-1],return_counts=True)\n",
    "        my_node.decision=unique[list(counts).index(max(counts))]\n",
    "        my_node.labels={element:count for element,count in zip(unique,counts)}\n",
    "        return\n",
    "    # collect the goodness of split for each attribute \n",
    "    for feature in range(len(data[0])-1):\n",
    "        goodness_by_feature=goodness_of_split(data, feature, impurity, gain_ratio)\n",
    "        goodness_of_split_on_each_attribute.append(goodness_by_feature)\n",
    "\n",
    "    max_goodness_of_split = max(goodness_of_split_on_each_attribute)\n",
    "    # in case there is no good spliting - we should finish the branch here. \n",
    "    # And like before update the relelvant information in the leaf.\n",
    "    if(max_goodness_of_split==0):\n",
    "        unique,counts=np.unique(data[:,-1],return_counts=True)\n",
    "        my_node.decision=unique[list(counts).index(max(counts))]\n",
    "        my_node.labels={element:count for element,count in zip(unique,counts)}\n",
    "        return\n",
    "    \n",
    "    # now by the best attribute found above we will split the data. \n",
    "    feature_of_max_goodness_of_split = goodness_of_split_on_each_attribute.index(max_goodness_of_split)\n",
    "    partition=split_by_attribute(data,feature_of_max_goodness_of_split)\n",
    "    \n",
    "    # update / create(if it is a root) the node in the tree\n",
    "    unique,counts=np.unique(data[:,-1],return_counts=True)\n",
    "    desicion_in_current_node=unique[list(counts).index(max(counts))]\n",
    "    if(my_node is None):\n",
    "        my_node=DecisionNode(feature_of_max_goodness_of_split,None,None,None)\n",
    "    else:\n",
    "        my_node.feature_the_current_node_partitions=feature_of_max_goodness_of_split\n",
    "        \n",
    "    my_node.decision=desicion_in_current_node    \n",
    "    # implement the partition into children nodes.    \n",
    "    for part in partition:\n",
    "        child=DecisionNode(None,part[0][feature_of_max_goodness_of_split],None)\n",
    "        my_node.add_child(child)\n",
    "        build_tree(np.array(part), impurity, gain_ratio, min_samples_split, max_depth-1,child)\n",
    "    ###########################################################################\n",
    "    #                             END OF YOUR CODE                            #\n",
    "    ###########################################################################\n",
    "    \n",
    "    return my_node"
   ]
  },
  {
   "cell_type": "code",
   "execution_count": 15,
   "metadata": {},
   "outputs": [],
   "source": [
    "# python supports passing a function as an argument to another function.\n",
    "tree_gini = build_tree(data=X_train, impurity=calc_gini) # gini and goodness of split\n",
    "tree_entropy = build_tree(data=X_train, impurity=calc_entropy) # entropy and goodness of split\n",
    "tree_entropy_gain_ratio = build_tree(data=X_train, impurity=calc_entropy, gain_ratio=True) # entropy and gain ratio"
   ]
  },
  {
   "cell_type": "markdown",
   "metadata": {},
   "source": [
    "## Tree evaluation\n",
    "\n",
    "Complete the functions `predict` and `calc_accuracy`. (10 points)"
   ]
  },
  {
   "cell_type": "code",
   "execution_count": 16,
   "metadata": {},
   "outputs": [],
   "source": [
    "\n",
    "# function that decides in the current node and a specific instance, where to continue on the tree.  \n",
    "# asumption: we are not in a leaf.\n",
    "def where_to_go_after(current_node,instance):\n",
    "    attribute_to_split=current_node.feature_the_current_node_partitions\n",
    "    for node in current_node.children:\n",
    "        if(node.value_this_node_share==instance[attribute_to_split]):\n",
    "            return node   \n",
    "        "
   ]
  },
  {
   "cell_type": "code",
   "execution_count": 17,
   "metadata": {},
   "outputs": [],
   "source": [
    "def predict(node, instance):\n",
    "    \"\"\"\n",
    "    Predict a given instance using the decision tree\n",
    " \n",
    "    Input:\n",
    "    - root: the root of the decision tree.\n",
    "    - instance: an row vector from the dataset. Note that the last element \n",
    "                of this vector is the label of the instance.\n",
    " \n",
    "    Output: the prediction of the instance.\n",
    "    \"\"\"\n",
    "    ###########################################################################\n",
    "    #       Implement the function.                                           #\n",
    "    ###########################################################################\n",
    "    if(len(node.children)==0):# if we got to a leaf.\n",
    "        return node.decision\n",
    "    else:\n",
    "        next_node_to_go = where_to_go_after(node, instance) # we a are in a node that is not a leaf \n",
    "        if (next_node_to_go is None):\n",
    "            return node.decision\n",
    "        return predict(next_node_to_go,instance)\n",
    "    return"
   ]
  },
  {
   "cell_type": "code",
   "execution_count": 18,
   "metadata": {},
   "outputs": [],
   "source": [
    "def calc_accuracy(node, dataset):\n",
    "    \"\"\"\n",
    "    Predict a given dataset using the decision tree\n",
    " \n",
    "    Input:\n",
    "    - node: a node in the decision tree.\n",
    "    - dataset: the dataset on which the accuracy is evaluated\n",
    " \n",
    "    Output: the accuracy of the decision tree on the given dataset (%).\n",
    "    \"\"\"\n",
    "    accuracy = 0\n",
    "    ###########################################################################\n",
    "    #       Implement the function.                                           #\n",
    "    ###########################################################################\n",
    "    for instance in dataset:\n",
    "        if(predict(node,instance)==instance[-1]): # check if prediction is equal to the label.\n",
    "            accuracy=accuracy+1\n",
    "    ###########################################################################\n",
    "    #                             END OF YOUR CODE                            #\n",
    "    ###########################################################################\n",
    "    return accuracy/len(dataset)"
   ]
  },
  {
   "cell_type": "markdown",
   "metadata": {},
   "source": [
    "After building the three trees using the training set, you should calculate the accuracy on the test set. For each tree print the training and test accuracy. Select the tree that gave you the best test accuracy. For the rest of the exercise, use that tree (when you asked to build another tree use the same impurity function and same gain_ratio flag). "
   ]
  },
  {
   "cell_type": "code",
   "execution_count": 19,
   "metadata": {},
   "outputs": [
    {
     "name": "stdout",
     "output_type": "stream",
     "text": [
      "Accurancy for a gini impurity method on testing set: 77.49876907927128%\n",
      "Accurancy for a entropy impurity method without gain ratio on testing set: 77.25258493353027%\n",
      "Accurancy for a entropy impurity method with gain ratio on testing set: 78.58197932053176%\n",
      "Accurancy for a gini impurity method on training set: 99.24503528639423%\n",
      "Accurancy for a entropy impurity method without gain ratio on training set: 99.40915805022156%\n",
      "Accurancy for a entropy impurity method with gain ratio on training set: 99.67175447234531%\n"
     ]
    }
   ],
   "source": [
    "print(\"Accurancy for a gini impurity method on testing set: \"+str(calc_accuracy(tree_gini,X_test)*100)+\"%\")\n",
    "\n",
    "print(\"Accurancy for a entropy impurity method without gain ratio on testing set: \"+str(calc_accuracy(tree_entropy,X_test)*100)+\"%\")\n",
    "\n",
    "print(\"Accurancy for a entropy impurity method with gain ratio on testing set: \"+str(calc_accuracy(tree_entropy_gain_ratio,X_test)*100)+\"%\")\n",
    "\n",
    "print(\"Accurancy for a gini impurity method on training set: \"+str(calc_accuracy(tree_gini,X_train)*100)+\"%\")\n",
    "\n",
    "print(\"Accurancy for a entropy impurity method without gain ratio on training set: \"+str(calc_accuracy(tree_entropy,X_train)*100)+\"%\")\n",
    "\n",
    "print(\"Accurancy for a entropy impurity method with gain ratio on training set: \"+str(calc_accuracy(tree_entropy_gain_ratio,X_train)*100)+\"%\")\n"
   ]
  },
  {
   "cell_type": "markdown",
   "metadata": {},
   "source": [
    "## Depth pruning\n",
    "\n",
    "(15 points)\n",
    "\n",
    "Consider the following max_depth values: [1, 2, 3, 4, 5, 6, 7, 8]. For each value, construct a tree and prune it according to the max_depth value = don't let the tree to grow beyond this depth. Next, calculate the training and testing accuracy.<br>\n",
    "On a single plot, draw the training and testing accuracy as a function of the max_depth. Mark the best result on the graph with red circle."
   ]
  },
  {
   "cell_type": "code",
   "execution_count": 20,
   "metadata": {},
   "outputs": [],
   "source": [
    "#we will define the method of counting nodes here in the top\n",
    "#so we can use it to check here how many nodes in each tree we prune \n",
    "\n",
    "def count_nodes(node):\n",
    "    \"\"\"\n",
    "    Count the number of node in a given tree\n",
    " \n",
    "    Input:\n",
    "    - node: a node in the decision tree.\n",
    " \n",
    "    Output: the number of node in the tree.\n",
    "    \"\"\"\n",
    "    ###########################################################################\n",
    "    # TODO: Implement the function.                                           #\n",
    "    ###########################################################################\n",
    "    count=0\n",
    "    for child in node.children:\n",
    "        count+=count_nodes(child)\n",
    "    return 1+count    \n",
    "    ###########################################################################\n",
    "    #                             END OF YOUR CODE                            #\n",
    "    ###########################################################################"
   ]
  },
  {
   "cell_type": "code",
   "execution_count": 21,
   "metadata": {},
   "outputs": [
    {
     "data": {
      "image/png": "[encoded data removed]",
      "text/plain": [
       "<Figure size 720x576 with 1 Axes>"
      ]
     },
     "metadata": {
      "needs_background": "light"
     },
     "output_type": "display_data"
    }
   ],
   "source": [
    "max_depth_arr=[1, 2, 3, 4, 5, 6, 7, 8]\n",
    "points_to_plot_train=[]\n",
    "points_to_plot_test=[]\n",
    "number_of_nodes_in_tree=[]\n",
    "for max_depth in max_depth_arr:\n",
    "    tree=build_tree(data=X_train, impurity=calc_entropy,gain_ratio=True, min_samples_split=1, max_depth=max_depth)\n",
    "    training_accuracy=calc_accuracy(tree,X_train)\n",
    "    testing_accuracy=calc_accuracy(tree,X_test)\n",
    "    points_to_plot_train.append(training_accuracy)\n",
    "    points_to_plot_test.append(testing_accuracy)\n",
    "    number_of_nodes_in_tree.append(count_nodes(tree))\n",
    "    \n",
    "plt.plot(max_depth_arr, points_to_plot_train, 'go', mec='k',label='Training Accuracy')\n",
    "plt.plot(max_depth_arr, points_to_plot_test, 'bo', mec='k',label='Testing Accuracy')\n",
    "plt.plot([],[],' ',label=\"number on each point represent the number of nodes in the tree\")\n",
    "for i in range(len(max_depth_arr)):\n",
    "    plt.text(max_depth_arr[i],points_to_plot_test[i],\"  \"+str(number_of_nodes_in_tree[i]))\n",
    "best_testing_point_by_max_depth=points_to_plot_test.index(max(points_to_plot_test))\n",
    "plt.plot(max_depth_arr[best_testing_point_by_max_depth],points_to_plot_test[best_testing_point_by_max_depth],marker=\"o\",markersize=10,markeredgecolor=\"red\")\n",
    "best_testing_point_by_max_depth+=1\n",
    "plt.ylabel('Accuracy')\n",
    "plt.xlabel('Tree Max Depth')\n",
    "plt.legend()\n",
    "plt.show()"
   ]
  },
  {
   "cell_type": "markdown",
   "metadata": {},
   "source": [
    "## Min Samples Split\n",
    "\n",
    "(15 points)\n",
    "\n",
    "Consider the following min_samples_split values: [1, 5, 10, 20, 50]. For each value, construct a tree and prune it according to the min_samples_split value = don't split a node if the number of sample in it is less or equal to the min_samples_split value. Next, calculate the training and testing accuracy.<br>\n",
    "On a single plot, draw the training and testing accuracy as a function of the min_samples_split. Mark the best result on the graph with red circle. (make sure that the x-axis ticks represent the values of min_samples_split)"
   ]
  },
  {
   "cell_type": "code",
   "execution_count": 22,
   "metadata": {},
   "outputs": [
    {
     "data": {
      "image/png": "[encoded data removed]",
      "text/plain": [
       "<Figure size 720x576 with 1 Axes>"
      ]
     },
     "metadata": {
      "needs_background": "light"
     },
     "output_type": "display_data"
    }
   ],
   "source": [
    "min_samples_split_arr=[1, 5, 10, 20, 50]\n",
    "points_to_plot_train=[]\n",
    "points_to_plot_test=[]\n",
    "number_of_nodes_in_tree=[]\n",
    "for min_samples in min_samples_split_arr:\n",
    "    tree=build_tree(data=X_train, impurity=calc_entropy,gain_ratio=True, min_samples_split=min_samples)\n",
    "    training_accuracy=calc_accuracy(tree,X_train)\n",
    "    testing_accuracy=calc_accuracy(tree,X_test)\n",
    "    points_to_plot_train.append(training_accuracy)\n",
    "    points_to_plot_test.append(testing_accuracy)\n",
    "    number_of_nodes_in_tree.append(count_nodes(tree))\n",
    "plt.plot(min_samples_split_arr, points_to_plot_train, 'go', mec='k',label='Training Accuracy')\n",
    "plt.plot(min_samples_split_arr, points_to_plot_test, 'bo', mec='k',label='Testing Accuracy')\n",
    "plt.plot([],[],' ',label=\"number on each point represent the number of nodes in the tree\")\n",
    "for i in range(len(min_samples_split_arr)):\n",
    "    plt.text(min_samples_split_arr[i],points_to_plot_test[i],\"  \"+str(number_of_nodes_in_tree[i]))\n",
    "best_testing_point_by_min_samples_split=points_to_plot_test.index(max(points_to_plot_test))\n",
    "plt.plot(min_samples_split_arr[best_testing_point_by_min_samples_split],points_to_plot_test[best_testing_point_by_min_samples_split],marker=\"o\",markersize=10,markeredgecolor=\"red\")\n",
    "best_testing_point_by_min_samples_split=min_samples_split_arr[best_testing_point_by_min_samples_split]\n",
    "plt.ylabel('Accuracy')\n",
    "plt.xlabel('Min Samples Splited')\n",
    "plt.legend()\n",
    "plt.show()"
   ]
  },
  {
   "cell_type": "markdown",
   "metadata": {},
   "source": [
    "Build the best 2 trees:\n",
    "1. tree_max_depth - the best tree according to max_depth pruning\n",
    "1. tree_min_samples_split - the best tree according to min_samples_split pruning"
   ]
  },
  {
   "cell_type": "code",
   "execution_count": 23,
   "metadata": {},
   "outputs": [],
   "source": [
    "tree_max_depth=build_tree(data=X_train, impurity=calc_entropy,gain_ratio=True, min_samples_split=1, max_depth=best_testing_point_by_max_depth)\n",
    "tree_min_samples_split=build_tree(data=X_train, impurity=calc_entropy,gain_ratio=True, min_samples_split=best_testing_point_by_min_samples_split)"
   ]
  },
  {
   "cell_type": "markdown",
   "metadata": {},
   "source": [
    "## Number of Nodes\n",
    "\n",
    "(5 points)\n",
    "\n",
    "Complete the function counts_nodes and print the number of nodes in each tree and print the number of nodes of the two trees above"
   ]
  },
  {
   "cell_type": "code",
   "execution_count": 24,
   "metadata": {},
   "outputs": [
    {
     "name": "stdout",
     "output_type": "stream",
     "text": [
      "number of nodes in the pruned tree by depth: 205\n",
      "number of nodes in the pruned tree by min samples in node: 349\n"
     ]
    }
   ],
   "source": [
    "# Moved this function to the top, in order to use it in the graphs\n",
    "\n",
    "print(\"number of nodes in the pruned tree by depth: \"+ str(count_nodes(tree_max_depth)))    \n",
    "print(\"number of nodes in the pruned tree by min samples in node: \"+ str(count_nodes(tree_min_samples_split)))"
   ]
  },
  {
   "cell_type": "markdown",
   "metadata": {},
   "source": [
    "## Print the tree\n",
    "\n",
    "Complete the function `print_tree`. Your tree should be visualized clearly. You can use the following example as a reference:\n",
    "```\n",
    "[ROOT, feature=X0],\n",
    "  [X0=a, feature=X2]\n",
    "    [X2=c, leaf]: [{1.0: 10}]\n",
    "    [X2=d, leaf]: [{0.0: 10}]\n",
    "  [X0=y, feature=X5], \n",
    "    [X5=a, leaf]: [{1.0: 5}]\n",
    "    [X5=s, leaf]: [{0.0: 10}]\n",
    "  [X0=e, leaf]: [{0.0: 25, 1.0: 50}]\n",
    "```\n",
    "In each brackets:\n",
    "* The first argument is the parent feature with the value that led to current node\n",
    "* The second argument is the selected feature of the current node\n",
    "* If the current node is a leaf, you need to print also the labels and their counts\n",
    "\n",
    "(5 points)"
   ]
  },
  {
   "cell_type": "code",
   "execution_count": 25,
   "metadata": {},
   "outputs": [],
   "source": [
    "# you can change the function signeture\n",
    "def print_tree(node, depth=0, parent_feature='ROOT', feature_val='ROOT'):\n",
    "    '''\n",
    "    prints the tree according to the example above\n",
    "\n",
    "    Input:\n",
    "    - node: a node in the decision tree\n",
    "\n",
    "    This function has no return value\n",
    "    '''\n",
    "    ###########################################################################\n",
    "    # TODO: Implement the function.                                           #\n",
    "    ###########################################################################\n",
    "\n",
    "    if(parent_feature=='ROOT'):\n",
    "        print(\"[\"+str(parent_feature)+\", feature=X\"+str(node.feature_the_current_node_partitions)+\"],\")\n",
    "    elif(len(node.children)==0):\n",
    "        print(\"  \"*depth+\"[\"+str(parent_feature)+\"=\"+str(node.value_this_node_share)+\", leaf]: [\"+str(node.labels)+\"]\")\n",
    "    else:\n",
    "        print(\"  \"*depth+\"[\"+str(parent_feature)+\"=\"+str(node.value_this_node_share)+\", feature=X\"+str(node.feature_the_current_node_partitions)+\"],\")\n",
    "    for node1 in node.children:\n",
    "        print_tree(node1,depth+1,'X'+str(node.feature_the_current_node_partitions),None)\n",
    "    ###########################################################################\n",
    "    #                             END OF YOUR CODE                            #\n",
    "    ###########################################################################\n",
    "    \n"
   ]
  },
  {
   "cell_type": "markdown",
   "metadata": {},
   "source": [
    "print the tree with the best test accuracy and with less than 50 nodes (from the two pruning methods)"
   ]
  },
  {
   "cell_type": "code",
   "execution_count": 26,
   "metadata": {},
   "outputs": [
    {
     "name": "stdout",
     "output_type": "stream",
     "text": [
      "[ROOT, feature=X4],\n",
      "  [X4=a, feature=X2],\n",
      "    [X2=n, leaf]: [{'e': 33, 'p': 5}]\n",
      "    [X2=w, leaf]: [{'e': 107, 'p': 7}]\n",
      "    [X2=y, leaf]: [{'e': 133, 'p': 19}]\n",
      "  [X4=c, feature=X6],\n",
      "    [X6=c, leaf]: [{'e': 7, 'p': 63}]\n",
      "    [X6=w, leaf]: [{'e': 3, 'p': 74}]\n",
      "  [X4=f, feature=X10],\n",
      "    [X10=f, leaf]: [{'e': 14, 'p': 91}]\n",
      "    [X10=k, leaf]: [{'e': 134, 'p': 1037}]\n",
      "    [X10=s, leaf]: [{'e': 22, 'p': 310}]\n",
      "  [X4=l, feature=X1],\n",
      "    [X1=f, leaf]: [{'e': 19, 'p': 1}]\n",
      "    [X1=s, leaf]: [{'e': 94, 'p': 16}]\n",
      "    [X1=y, leaf]: [{'e': 159, 'p': 10}]\n",
      "  [X4=m, feature=X0],\n",
      "    [X0=f, leaf]: [{'e': 1, 'p': 8}]\n",
      "    [X0=k, leaf]: [{'e': 1, 'p': 10}]\n",
      "    [X0=x, leaf]: [{'p': 7}]\n",
      "  [X4=n, feature=X7],\n",
      "    [X7=b, leaf]: [{'e': 2197, 'p': 286}]\n",
      "    [X7=n, leaf]: [{'e': 135, 'p': 58}]\n",
      "  [X4=p, feature=X0],\n",
      "    [X0=f, leaf]: [{'e': 7, 'p': 86}]\n",
      "    [X0=x, leaf]: [{'e': 1, 'p': 89}]\n",
      "  [X4=s, feature=X13],\n",
      "    [X13=p, leaf]: [{'e': 12, 'p': 190}]\n",
      "    [X13=w, leaf]: [{'e': 26, 'p': 190}]\n",
      "  [X4=y, feature=X1],\n",
      "    [X1=s, leaf]: [{'e': 18, 'p': 194}]\n",
      "    [X1=y, leaf]: [{'e': 31, 'p': 188}]\n"
     ]
    }
   ],
   "source": [
    "#we see on the graphs that represent the pruning that the tree with max depth of 2 will have 32 nodes and it will be the best accuracy. \n",
    "\n",
    "print_tree(build_tree(data=X_train, impurity=calc_entropy,gain_ratio=True, min_samples_split=1, max_depth=2))\n"
   ]
  },
  {
   "cell_type": "code",
   "execution_count": null,
   "metadata": {},
   "outputs": [],
   "source": []
  }
 ],
 "metadata": {
  "celltoolbar": "Create Assignment",
  "kernelspec": {
   "display_name": "Python 3 (ipykernel)",
   "language": "python",
   "name": "python3"
  },
  "language_info": {
   "codemirror_mode": {
    "name": "ipython",
    "version": 3
   },
   "file_extension": ".py",
   "mimetype": "text/x-python",
   "name": "python",
   "nbconvert_exporter": "python",
   "pygments_lexer": "ipython3",
   "version": "3.9.7"
  }
 },
 "nbformat": 4,
 "nbformat_minor": 4
}
